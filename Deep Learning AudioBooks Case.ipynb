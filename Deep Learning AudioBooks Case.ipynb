{
 "cells": [
  {
   "cell_type": "code",
   "execution_count": 1,
   "id": "f6a81cfc",
   "metadata": {},
   "outputs": [],
   "source": [
    "import numpy as np\n",
    "from sklearn import preprocessing"
   ]
  },
  {
   "cell_type": "code",
   "execution_count": 2,
   "id": "d6cc2783",
   "metadata": {},
   "outputs": [],
   "source": [
    "data = np.loadtxt('audiobooks-data.csv',delimiter = ',')\n",
    "unscaled_inputs_all = data[:,1:-1]\n",
    "targets_all = data[:,-1]\n",
    "    "
   ]
  },
  {
   "cell_type": "code",
   "execution_count": 3,
   "id": "bc89467c",
   "metadata": {},
   "outputs": [],
   "source": [
    "##### Balance the dataset ####\n",
    "\n",
    "num1target = int(np.sum(targets_all))\n",
    "target0counter = 0\n",
    "indices_to_remove = []\n",
    "for i in range(targets_all.shape[0]):\n",
    "    if targets_all[i] == 0:\n",
    "        target0counter +=1\n",
    "        if target0counter > num1target:\n",
    "            indices_to_remove.append(i)\n",
    "            \n",
    "unscaled_inputs_equal_priors = np.delete(unscaled_inputs_all,indices_to_remove,axis = 0)\n",
    "targets_equal_priors = np.delete(targets_all,indices_to_remove,axis=0)"
   ]
  },
  {
   "cell_type": "code",
   "execution_count": 4,
   "id": "644968d8",
   "metadata": {},
   "outputs": [],
   "source": [
    "#Standardize the inputs\n",
    "scaled_inputs = preprocessing.scale(unscaled_inputs_equal_priors)"
   ]
  },
  {
   "cell_type": "code",
   "execution_count": 5,
   "id": "4e7c7bc2",
   "metadata": {},
   "outputs": [],
   "source": [
    "# Shuffle the data\n",
    "shuffled_indices = np.arange(scaled_inputs.shape[0])\n",
    "np.random.shuffle(shuffled_indices)\n",
    "\n",
    "shuffled_inputs = scaled_inputs[shuffled_indices]\n",
    "shuffled_targets = targets_equal_priors[shuffled_indices]"
   ]
  },
  {
   "cell_type": "code",
   "execution_count": 6,
   "id": "6d0d6b72",
   "metadata": {},
   "outputs": [],
   "source": [
    "# Split the dataset\n",
    "samples_count = shuffled_inputs.shape[0]\n",
    "train_sample_count = int(.8*samples_count)\n",
    "validation_sample_count = int(.1*samples_count)\n",
    "test_sample_count = samples_count - train_sample_count - validation_sample_count# In[ ]:\n",
    "\n",
    "train_inputs = shuffled_inputs[:train_sample_count]\n",
    "train_targets = shuffled_targets[:train_sample_count]\n",
    "\n",
    "validation_inputs = shuffled_inputs[train_sample_count:train_sample_count + validation_sample_count]\n",
    "validation_targets = shuffled_targets[train_sample_count:train_sample_count + validation_sample_count]\n",
    "\n",
    "test_inputs = shuffled_inputs[:train_sample_count + validation_sample_count]\n",
    "test_targets = shuffled_targets[:train_sample_count + validation_sample_count]"
   ]
  },
  {
   "cell_type": "code",
   "execution_count": 7,
   "id": "5e4fad2e",
   "metadata": {},
   "outputs": [
    {
     "name": "stdout",
     "output_type": "stream",
     "text": [
      "1785.0 3579 0.49874266554903607\n",
      "226.0 447 0.5055928411633109\n",
      "2011.0 448 4.488839285714286\n"
     ]
    }
   ],
   "source": [
    "print(np.sum(train_targets), train_sample_count, np.sum(train_targets) / train_sample_count)\n",
    "print(np.sum(validation_targets), validation_sample_count, np.sum(validation_targets) / validation_sample_count)\n",
    "print(np.sum(test_targets), test_sample_count, np.sum(test_targets) / test_sample_count)"
   ]
  },
  {
   "cell_type": "code",
   "execution_count": 8,
   "id": "3bc8bd67",
   "metadata": {},
   "outputs": [],
   "source": [
    "np.savez('Audiobooks_data_train', inputs=train_inputs, targets=train_targets)\n",
    "np.savez('Audiobooks_data_validation', inputs=validation_inputs, targets=validation_targets)\n",
    "np.savez('Audiobooks_data_test', inputs=test_inputs, targets=test_targets)"
   ]
  },
  {
   "cell_type": "code",
   "execution_count": null,
   "id": "1deaf9d0",
   "metadata": {},
   "outputs": [],
   "source": []
  }
 ],
 "metadata": {
  "kernelspec": {
   "display_name": "Python 3 (ipykernel)",
   "language": "python",
   "name": "python3"
  },
  "language_info": {
   "codemirror_mode": {
    "name": "ipython",
    "version": 3
   },
   "file_extension": ".py",
   "mimetype": "text/x-python",
   "name": "python",
   "nbconvert_exporter": "python",
   "pygments_lexer": "ipython3",
   "version": "3.10.8"
  }
 },
 "nbformat": 4,
 "nbformat_minor": 5
}
