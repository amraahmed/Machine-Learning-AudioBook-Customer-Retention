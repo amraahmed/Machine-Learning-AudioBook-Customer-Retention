{
 "cells": [
  {
   "cell_type": "code",
   "execution_count": 1,
   "id": "062b5e18",
   "metadata": {},
   "outputs": [],
   "source": [
    "import numpy as np\n",
    "import tensorflow as tf"
   ]
  },
  {
   "cell_type": "code",
   "execution_count": 2,
   "id": "81a17a9f",
   "metadata": {},
   "outputs": [],
   "source": [
    "npz = np.load(\"Audiobooks_data_train.npz\")\n",
    "train_inputs,train_targets = npz['inputs'].astype(np.float64), npz['targets'].astype(np.int32)\n",
    "npz = np.load(\"Audiobooks_data_validation.npz\")\n",
    "validation_inputs , validation_targets= npz['inputs'].astype(np.float64), npz['targets'].astype(np.int32)\n",
    "npz = np.load(\"Audiobooks_data_test.npz\")\n",
    "test_inputs , test_targets= npz['inputs'].astype(np.float64), npz['targets'].astype(np.int32)"
   ]
  },
  {
   "cell_type": "code",
   "execution_count": 11,
   "id": "33adbfbf",
   "metadata": {},
   "outputs": [
    {
     "name": "stdout",
     "output_type": "stream",
     "text": [
      "Epoch 1/100\n",
      "36/36 - 2s - loss: 0.5863 - accuracy: 0.6918 - val_loss: 0.5030 - val_accuracy: 0.7584 - 2s/epoch - 50ms/step\n",
      "Epoch 2/100\n",
      "36/36 - 0s - loss: 0.4607 - accuracy: 0.7712 - val_loss: 0.4284 - val_accuracy: 0.7785 - 144ms/epoch - 4ms/step\n",
      "Epoch 3/100\n",
      "36/36 - 0s - loss: 0.4121 - accuracy: 0.7860 - val_loss: 0.3903 - val_accuracy: 0.8166 - 144ms/epoch - 4ms/step\n",
      "Epoch 4/100\n",
      "36/36 - 0s - loss: 0.3867 - accuracy: 0.8013 - val_loss: 0.3713 - val_accuracy: 0.8054 - 157ms/epoch - 4ms/step\n",
      "Epoch 5/100\n",
      "36/36 - 0s - loss: 0.3721 - accuracy: 0.8025 - val_loss: 0.3755 - val_accuracy: 0.7830 - 154ms/epoch - 4ms/step\n",
      "Epoch 6/100\n",
      "36/36 - 0s - loss: 0.3665 - accuracy: 0.8025 - val_loss: 0.3678 - val_accuracy: 0.7919 - 151ms/epoch - 4ms/step\n",
      "Epoch 7/100\n",
      "36/36 - 0s - loss: 0.3602 - accuracy: 0.8016 - val_loss: 0.3459 - val_accuracy: 0.8166 - 134ms/epoch - 4ms/step\n",
      "Epoch 8/100\n",
      "36/36 - 0s - loss: 0.3529 - accuracy: 0.8106 - val_loss: 0.3491 - val_accuracy: 0.8233 - 141ms/epoch - 4ms/step\n",
      "Epoch 9/100\n",
      "36/36 - 0s - loss: 0.3527 - accuracy: 0.8086 - val_loss: 0.3394 - val_accuracy: 0.8166 - 149ms/epoch - 4ms/step\n",
      "Epoch 10/100\n",
      "36/36 - 0s - loss: 0.3446 - accuracy: 0.8103 - val_loss: 0.3314 - val_accuracy: 0.8166 - 157ms/epoch - 4ms/step\n",
      "Epoch 11/100\n",
      "36/36 - 0s - loss: 0.3425 - accuracy: 0.8164 - val_loss: 0.3289 - val_accuracy: 0.8188 - 143ms/epoch - 4ms/step\n",
      "Epoch 12/100\n",
      "36/36 - 0s - loss: 0.3415 - accuracy: 0.8136 - val_loss: 0.3278 - val_accuracy: 0.8412 - 145ms/epoch - 4ms/step\n",
      "Epoch 13/100\n",
      "36/36 - 0s - loss: 0.3415 - accuracy: 0.8114 - val_loss: 0.3266 - val_accuracy: 0.8345 - 167ms/epoch - 5ms/step\n",
      "Epoch 14/100\n",
      "36/36 - 0s - loss: 0.3355 - accuracy: 0.8181 - val_loss: 0.3364 - val_accuracy: 0.8076 - 155ms/epoch - 4ms/step\n",
      "Epoch 15/100\n",
      "36/36 - 0s - loss: 0.3359 - accuracy: 0.8145 - val_loss: 0.3248 - val_accuracy: 0.8345 - 139ms/epoch - 4ms/step\n",
      "Epoch 16/100\n",
      "36/36 - 0s - loss: 0.3339 - accuracy: 0.8203 - val_loss: 0.3224 - val_accuracy: 0.8098 - 158ms/epoch - 4ms/step\n",
      "Epoch 17/100\n",
      "36/36 - 0s - loss: 0.3321 - accuracy: 0.8184 - val_loss: 0.3262 - val_accuracy: 0.8054 - 152ms/epoch - 4ms/step\n",
      "Epoch 18/100\n",
      "36/36 - 0s - loss: 0.3332 - accuracy: 0.8231 - val_loss: 0.3219 - val_accuracy: 0.8166 - 161ms/epoch - 4ms/step\n",
      "Epoch 19/100\n",
      "36/36 - 0s - loss: 0.3306 - accuracy: 0.8226 - val_loss: 0.3149 - val_accuracy: 0.8143 - 172ms/epoch - 5ms/step\n",
      "Epoch 20/100\n",
      "36/36 - 0s - loss: 0.3311 - accuracy: 0.8148 - val_loss: 0.3192 - val_accuracy: 0.8210 - 161ms/epoch - 4ms/step\n",
      "Epoch 21/100\n",
      "36/36 - 0s - loss: 0.3269 - accuracy: 0.8254 - val_loss: 0.3133 - val_accuracy: 0.8166 - 141ms/epoch - 4ms/step\n",
      "Epoch 22/100\n",
      "36/36 - 0s - loss: 0.3256 - accuracy: 0.8229 - val_loss: 0.3154 - val_accuracy: 0.8255 - 167ms/epoch - 5ms/step\n",
      "Epoch 23/100\n",
      "36/36 - 0s - loss: 0.3230 - accuracy: 0.8254 - val_loss: 0.3095 - val_accuracy: 0.8121 - 147ms/epoch - 4ms/step\n",
      "Epoch 24/100\n",
      "36/36 - 0s - loss: 0.3257 - accuracy: 0.8287 - val_loss: 0.3124 - val_accuracy: 0.8121 - 144ms/epoch - 4ms/step\n",
      "Epoch 25/100\n",
      "36/36 - 0s - loss: 0.3234 - accuracy: 0.8268 - val_loss: 0.3208 - val_accuracy: 0.8322 - 156ms/epoch - 4ms/step\n"
     ]
    },
    {
     "data": {
      "text/plain": [
       "<keras.callbacks.History at 0x1aa8594ab60>"
      ]
     },
     "execution_count": 11,
     "metadata": {},
     "output_type": "execute_result"
    }
   ],
   "source": [
    "input_size = 10\n",
    "output_size = 2\n",
    "hidden_layer_size = 50\n",
    "model = tf.keras.Sequential([\n",
    "    tf.keras.layers.Dense(hidden_layer_size,activation='relu'),\n",
    "    tf.keras.layers.Dense(hidden_layer_size,activation='relu'),\n",
    "        tf.keras.layers.Dense(output_size,activation='softmax')\n",
    "\n",
    "])\n",
    "\n",
    "model.compile(optimizer = \"Adam\",loss='sparse_categorical_crossentropy',metrics=['accuracy'])\n",
    "\n",
    "BATCH_SIZE = 100\n",
    "MAX_EPOCHS = 100\n",
    "early_stopping = tf.keras.callbacks.EarlyStopping(patience=2)#%%\n",
    "model.fit(train_inputs,train_targets,batch_size=BATCH_SIZE,epochs=MAX_EPOCHS,\n",
    "          callbacks=[early_stopping],validation_data=(validation_inputs,validation_targets),verbose=2)"
   ]
  },
  {
   "cell_type": "code",
   "execution_count": 12,
   "id": "2f5da2f9",
   "metadata": {},
   "outputs": [
    {
     "name": "stdout",
     "output_type": "stream",
     "text": [
      "126/126 [==============================] - 0s 3ms/step - loss: 0.3271 - accuracy: 0.8259\n"
     ]
    }
   ],
   "source": [
    "test_loss , test_accuracy = model.evaluate(test_inputs,test_targets)"
   ]
  },
  {
   "cell_type": "code",
   "execution_count": 14,
   "id": "46de444c",
   "metadata": {},
   "outputs": [
    {
     "name": "stdout",
     "output_type": "stream",
     "text": [
      "Test loss is 0.33 test accuracy is 82.59%\n"
     ]
    }
   ],
   "source": [
    "print(\"Test loss is {0:.2f} test accuracy is {1:.2f}%\".format(test_loss , test_accuracy*100))"
   ]
  },
  {
   "cell_type": "code",
   "execution_count": null,
   "id": "f166f6a7",
   "metadata": {},
   "outputs": [],
   "source": []
  }
 ],
 "metadata": {
  "kernelspec": {
   "display_name": "Python 3 (ipykernel)",
   "language": "python",
   "name": "python3"
  },
  "language_info": {
   "codemirror_mode": {
    "name": "ipython",
    "version": 3
   },
   "file_extension": ".py",
   "mimetype": "text/x-python",
   "name": "python",
   "nbconvert_exporter": "python",
   "pygments_lexer": "ipython3",
   "version": "3.10.8"
  }
 },
 "nbformat": 4,
 "nbformat_minor": 5
}
